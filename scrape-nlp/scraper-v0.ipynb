{
 "metadata": {
  "language_info": {
   "codemirror_mode": {
    "name": "ipython",
    "version": 3
   },
   "file_extension": ".py",
   "mimetype": "text/x-python",
   "name": "python",
   "nbconvert_exporter": "python",
   "pygments_lexer": "ipython3",
   "version": "3.7.4-final"
  },
  "orig_nbformat": 2,
  "kernelspec": {
   "name": "python3",
   "display_name": "Python 3",
   "language": "python"
  }
 },
 "nbformat": 4,
 "nbformat_minor": 2,
 "cells": [
  {
   "cell_type": "code",
   "execution_count": 45,
   "metadata": {
    "tags": []
   },
   "outputs": [
    {
     "output_type": "stream",
     "name": "stdout",
     "text": [
      "\n                    Computer Scientist, AST, Computer Research and Development \n                 National Aeronautics and Space Administration \n                    Ames Research Center\n                \nDuties None\nRequirements None\nRequired Documents None\nBenefits None\nHow to Apply None\nFair & Transparent None\n"
     ]
    }
   ],
   "source": [
    "from bs4 import BeautifulSoup\n",
    "import requests\n",
    "\n",
    "# with open(\"nasa.htm\") as html_file:\n",
    "#     soup = BeautifulSoup(html_file, 'lxml')\n",
    "# print(soup.prettify())\n",
    "\n",
    "url = requests.get('https://www.usajobs.gov/GetJob/ViewDetails/576145500#locations').text\n",
    "soup = BeautifulSoup(url, 'lxml')\n",
    "\n",
    "\n",
    "title = soup.find('h1').text\n",
    "dept = soup.find('h5', class_='usajobs-joa-banner__dept').text\n",
    "loc = soup.find('a', class_='usajobs-joa-banner__agency').text\n",
    "print(title, dept, loc)\n",
    "\n",
    "for header in soup.find_all('h2', class_='usajobs-joa-section__header'):\n",
    "    head = header.text\n",
    "    content = header.h3\n",
    "    print(head, content)\n"
   ]
  },
  {
   "cell_type": "code",
   "execution_count": null,
   "metadata": {},
   "outputs": [],
   "source": []
  }
 ]
}