{
 "metadata": {
  "language_info": {
   "codemirror_mode": {
    "name": "ipython",
    "version": 3
   },
   "file_extension": ".py",
   "mimetype": "text/x-python",
   "name": "python",
   "nbconvert_exporter": "python",
   "pygments_lexer": "ipython3",
   "version": "3.7.4-final"
  },
  "orig_nbformat": 2,
  "kernelspec": {
   "name": "python3",
   "display_name": "Python 3",
   "language": "python"
  }
 },
 "nbformat": 4,
 "nbformat_minor": 2,
 "cells": [
  {
   "cell_type": "code",
   "execution_count": 52,
   "metadata": {},
   "outputs": [],
   "source": [
    "import pandas as pd \n",
    "import csv\n",
    "import nltk\n",
    "from nltk.tokenize import sent_tokenize, word_tokenize\n",
    "from nltk.corpus import stopwords\n",
    "from nltk.tokenize import RegexpTokenizer\n",
    "from sklearn.model_selection import train_test_split\n"
   ]
  },
  {
   "cell_type": "code",
   "execution_count": 21,
   "metadata": {},
   "outputs": [
    {
     "output_type": "execute_result",
     "data": {
      "text/plain": [
       "str"
      ]
     },
     "metadata": {},
     "execution_count": 21
    }
   ],
   "source": [
    "with open('nasa-test.txt', 'r') as file:\n",
    "    data = file.read().replace('\\n', '')\n",
    "type(data)"
   ]
  },
  {
   "cell_type": "code",
   "execution_count": 22,
   "metadata": {},
   "outputs": [
    {
     "output_type": "stream",
     "name": "stdout",
     "text": [
      "[\"                    Computer Scientist, AST, Computer Research and Development                 National Aeronautics and Space Administration                    Ames Research Center                 SummaryThe Intelligent Systems Division at NASA Ames Research Center is seeking applicants for the position of Computer Scientist to support the Center's Intelligent Adaptive Systems (IAS) core competency.\", 'This position serves as project/team lead and innovator to guide and create software and tools applicable to the IAS core competency, covering the spectrum of research, design, and development phases, as well as project implementation and operation phases on flight missions.ResponsibilitiesServes as team lead and senior software development lead, project manager, principal investigator, deployment lead, and/or laboratory manager providing high-level technical leadership.Supports a range of aeronautics/aerospace projects/programs (e.g., aviation, airborne science, small spacecraft, and terrestrial/planetary robotics, quantum computing, biomedical applications for human exploration, and advanced exploration systems).Guides others/creates software and tools applicable to the Intelligent Adaptive Systems (IAS), covering the spectrum of research, design, and development phases, as well as project implementation and operation phases on flight missions.Develops models, algorithms, hardware and/or software for technologies that function as advisors, advanced automation, and autonomous technologies; for tools and techniques that address the information management lifecycles.Develops methods that detect, classify, or predict events of interest in engineered systems; and technologies for automated software engineering that increase the reliability and reduce the cost of software for NASA missions.Leads/conducts basic and applied research and technology/prototype development in a wide variety of areas such as intelligent robotic systems, adaptive/optimal control, ground/flight software and data systems, machine learning, and assured autonomy.Oversees documentation of project requirements, design, development, testing, use, and deliverables (e.g., software, tools, data).', 'Integrates studies/analysis results into comprehensive technical briefings, reports, and/or papers.Leads development of proposal submissions; serves on Agency and government committees and working groups; supports policy development; and participates in roadmap and planning activities.Duties described above are at the full-performance level.', 'Duties assigned at a lower grade level will be of more limited scope, performed with less independence and limited complexity; duties will be commensurate with the grade of selected employee.', 'Qualifications                                                In addition to the basic education requirement, you must have one year of specialized experience equivalent to the next lower grade level, which has equipped you with the particular competencies needed to successfully perform the duties of the position described above.To qualify for the GS-14:Specialized experience equivalent to the next lower grade level (GS-13) includes duties such as conducting research and development for intelligent adaptive systems that support either in-flight autonomy or ground-based autonomous support operations;  experience in model, algorithm, hardware and/or software development for engineered or information systems.To qualify for the GS-15:Specialized experience equivalent to the next lower grade level (GS-14) includes duties such as leading, providing technical guidance to, or technical oversight of engineers/scientists researching, designing, analyzing, developing, deploying, and/or operating intelligent adaptive systems that support either in-flight autonomy or ground-based autonomous support operations;  AND experience in model, algorithm, hardware and/or software development for engineered or information systems.Your resume must include a clear and detailed narrative description, in your own words, of how you meet the required specialized experience.', \"Experience statements copied from a position description, vacancy announcement or other reference material constitutes plagiarism and may result in disqualification and losing consideration for the job.Please spell out all acronyms.Education                                                Basic Education Requirement: A bachelor's degree from an accredited college or university with major study in Aeronautical Engineering, Aeronautics, Aerospace Engineering, Architecture, Astronautical Engineering, Astronautics, Astronomy, Astrophysics, Biomedical Engineering, Ceramic Engineering, Ceramics, Chemical Engineering, Chemistry, Civil Engineering, Computer Engineering, Computer Science*, Life Science, Earth and Planetary Science, Electrical Engineering, Electronics Engineering, Geology, Geophysics, Industrial Engineering, Materials Engineering, Materials Science, Mathematics (Pure or Applied), Applied Mechanics, Engineering Mechanics, Mechanical Engineering, Metallurgical Engineering, Metallurgy, Meteorology, Nuclear Engineering, Nuclear Engineering Physics, Oceanography, Optical Engineering, Physics, Applied Physics, Engineering Physics, Space Science, Structural Engineering, Welding Engineering or other appropriate physical science or engineering field.Degrees in engineering technology are not considered to be qualifying for this position.\", '*Note: Curriculum must include 30 semester hours of course work in a combination of mathematics, statistics and computer science that provided in-depth knowledge of the following: (1) theoretical foundations and practical applications of computer science, including digital computer system architecture and system software organization, the representation and transformation of information structures and the theoretical models for such representations and transformations; and (2) essential mathematical and statistical techniques.', 'Of the 30 semester hours, 15 must be in any combination of statistics and mathematics which includes differential and integral calculus.U.S.', 'Engineering degrees must have been awarded from a college or university school of engineering with at least one curriculum accredited by the Engineering Accreditation Commission (EAC) of the Accreditation Board for Engineering and Technology (ABET).', 'To find out if a degree meets this requirement, go to http://www.abet.org.', 'Foreign Engineering degrees must be recognized by a Mutual Recognition Agreement (MRA), often known as accords These are non-governmental agreements among organizations that accredit academic degree programs.', 'MRAs recognize the substantial equivalence of mature accreditation systems and programs accredited by signatory organizations within their jurisdictions.', 'For a listing of Signatories, please visit, https://www.abet.org/global-presence/mutual-recognition-agreements/is-your-program-recognized/.', 'Science and other related degrees must have been awarded from colleges or universities that are accredited by recognized accrediting organizations.', 'For a list of schools that meet this criteria, go to http://ope.ed.gov/accreditation/.', 'If you are using education completed in foreign colleges or universities to meet the qualification requirements, you must show that the education credentials have been evaluated by a private organization that specializes in interpretation of foreign education programs.', 'These education credentials must be deemed equivalent to that gained in an accredited U.S. education program; or full credit has been given for the courses at a U.S. accredited college or university.', 'For further information, visit: https://www2.ed.gov/about/offices/list/ous/international/usnei/us/edlite-visitus-forrecog.html.', 'All degrees must have been received in the year of, or any year subsequent to the original date of accreditation.Official transcripts will be required at the time of selection to verify that you meet the educational requirement or substitution.']\n"
     ]
    }
   ],
   "source": [
    "# Gets all data and breaks into sentences\n",
    "print(sent_tokenize(data))"
   ]
  },
  {
   "cell_type": "code",
   "execution_count": 29,
   "metadata": {},
   "outputs": [
    {
     "output_type": "stream",
     "name": "stdout",
     "text": [
      "['Computer', 'Scientist', ',', 'AST', ',', 'Computer', 'Research', 'and', 'Development', 'National', 'Aeronautics', 'and', 'Space', 'Administration', 'Ames', 'Research', 'Center', 'SummaryThe', 'Intelligent', 'Systems', 'Division', 'at', 'NASA', 'Ames', 'Research', 'Center', 'is', 'seeking', 'applicants', 'for', 'the', 'position', 'of', 'Computer', 'Scientist', 'to', 'support', 'the', 'Center', \"'s\", 'Intelligent', 'Adaptive', 'Systems', '(', 'IAS', ')', 'core', 'competency', '.', 'This', 'position', 'serves', 'as', 'project/team', 'lead', 'and', 'innovator', 'to', 'guide', 'and', 'create', 'software', 'and', 'tools', 'applicable', 'to', 'the', 'IAS', 'core', 'competency', ',', 'covering', 'the', 'spectrum', 'of', 'research', ',', 'design', ',', 'and', 'development', 'phases', ',', 'as', 'well', 'as', 'project', 'implementation', 'and', 'operation', 'phases', 'on', 'flight', 'missions.ResponsibilitiesServes', 'as', 'team', 'lead', 'and', 'senior', 'software', 'development', 'lead', ',', 'project', 'manager', ',', 'principal', 'investigator', ',', 'deployment', 'lead', ',', 'and/or', 'laboratory', 'manager', 'providing', 'high-level', 'technical', 'leadership.Supports', 'a', 'range', 'of', 'aeronautics/aerospace', 'projects/programs', '(', 'e.g.', ',', 'aviation', ',', 'airborne', 'science', ',', 'small', 'spacecraft', ',', 'and', 'terrestrial/planetary', 'robotics', ',', 'quantum', 'computing', ',', 'biomedical', 'applications', 'for', 'human', 'exploration', ',', 'and', 'advanced', 'exploration', 'systems', ')', '.Guides', 'others/creates', 'software', 'and', 'tools', 'applicable', 'to', 'the', 'Intelligent', 'Adaptive', 'Systems', '(', 'IAS', ')', ',', 'covering', 'the', 'spectrum', 'of', 'research', ',', 'design', ',', 'and', 'development', 'phases', ',', 'as', 'well', 'as', 'project', 'implementation', 'and', 'operation', 'phases', 'on', 'flight', 'missions.Develops', 'models', ',', 'algorithms', ',', 'hardware', 'and/or', 'software', 'for', 'technologies', 'that', 'function', 'as', 'advisors', ',', 'advanced', 'automation', ',', 'and', 'autonomous', 'technologies', ';', 'for', 'tools', 'and', 'techniques', 'that', 'address', 'the', 'information', 'management', 'lifecycles.Develops', 'methods', 'that', 'detect', ',', 'classify', ',', 'or', 'predict', 'events', 'of', 'interest', 'in', 'engineered', 'systems', ';', 'and', 'technologies', 'for', 'automated', 'software', 'engineering', 'that', 'increase', 'the', 'reliability', 'and', 'reduce', 'the', 'cost', 'of', 'software', 'for', 'NASA', 'missions.Leads/conducts', 'basic', 'and', 'applied', 'research', 'and', 'technology/prototype', 'development', 'in', 'a', 'wide', 'variety', 'of', 'areas', 'such', 'as', 'intelligent', 'robotic', 'systems', ',', 'adaptive/optimal', 'control', ',', 'ground/flight', 'software', 'and', 'data', 'systems', ',', 'machine', 'learning', ',', 'and', 'assured', 'autonomy.Oversees', 'documentation', 'of', 'project', 'requirements', ',', 'design', ',', 'development', ',', 'testing', ',', 'use', ',', 'and', 'deliverables', '(', 'e.g.', ',', 'software', ',', 'tools', ',', 'data', ')', '.', 'Integrates', 'studies/analysis', 'results', 'into', 'comprehensive', 'technical', 'briefings', ',', 'reports', ',', 'and/or', 'papers.Leads', 'development', 'of', 'proposal', 'submissions', ';', 'serves', 'on', 'Agency', 'and', 'government', 'committees', 'and', 'working', 'groups', ';', 'supports', 'policy', 'development', ';', 'and', 'participates', 'in', 'roadmap', 'and', 'planning', 'activities.Duties', 'described', 'above', 'are', 'at', 'the', 'full-performance', 'level', '.', 'Duties', 'assigned', 'at', 'a', 'lower', 'grade', 'level', 'will', 'be', 'of', 'more', 'limited', 'scope', ',', 'performed', 'with', 'less', 'independence', 'and', 'limited', 'complexity', ';', 'duties', 'will', 'be', 'commensurate', 'with', 'the', 'grade', 'of', 'selected', 'employee', '.', 'Qualifications', 'In', 'addition', 'to', 'the', 'basic', 'education', 'requirement', ',', 'you', 'must', 'have', 'one', 'year', 'of', 'specialized', 'experience', 'equivalent', 'to', 'the', 'next', 'lower', 'grade', 'level', ',', 'which', 'has', 'equipped', 'you', 'with', 'the', 'particular', 'competencies', 'needed', 'to', 'successfully', 'perform', 'the', 'duties', 'of', 'the', 'position', 'described', 'above.To', 'qualify', 'for', 'the', 'GS-14', ':', 'Specialized', 'experience', 'equivalent', 'to', 'the', 'next', 'lower', 'grade', 'level', '(', 'GS-13', ')', 'includes', 'duties', 'such', 'as', 'conducting', 'research', 'and', 'development', 'for', 'intelligent', 'adaptive', 'systems', 'that', 'support', 'either', 'in-flight', 'autonomy', 'or', 'ground-based', 'autonomous', 'support', 'operations', ';', 'experience', 'in', 'model', ',', 'algorithm', ',', 'hardware', 'and/or', 'software', 'development', 'for', 'engineered', 'or', 'information', 'systems.To', 'qualify', 'for', 'the', 'GS-15', ':', 'Specialized', 'experience', 'equivalent', 'to', 'the', 'next', 'lower', 'grade', 'level', '(', 'GS-14', ')', 'includes', 'duties', 'such', 'as', 'leading', ',', 'providing', 'technical', 'guidance', 'to', ',', 'or', 'technical', 'oversight', 'of', 'engineers/scientists', 'researching', ',', 'designing', ',', 'analyzing', ',', 'developing', ',', 'deploying', ',', 'and/or', 'operating', 'intelligent', 'adaptive', 'systems', 'that', 'support', 'either', 'in-flight', 'autonomy', 'or', 'ground-based', 'autonomous', 'support', 'operations', ';', 'AND', 'experience', 'in', 'model', ',', 'algorithm', ',', 'hardware', 'and/or', 'software', 'development', 'for', 'engineered', 'or', 'information', 'systems.Your', 'resume', 'must', 'include', 'a', 'clear', 'and', 'detailed', 'narrative', 'description', ',', 'in', 'your', 'own', 'words', ',', 'of', 'how', 'you', 'meet', 'the', 'required', 'specialized', 'experience', '.', 'Experience', 'statements', 'copied', 'from', 'a', 'position', 'description', ',', 'vacancy', 'announcement', 'or', 'other', 'reference', 'material', 'constitutes', 'plagiarism', 'and', 'may', 'result', 'in', 'disqualification', 'and', 'losing', 'consideration', 'for', 'the', 'job.Please', 'spell', 'out', 'all', 'acronyms.Education', 'Basic', 'Education', 'Requirement', ':', 'A', 'bachelor', \"'s\", 'degree', 'from', 'an', 'accredited', 'college', 'or', 'university', 'with', 'major', 'study', 'in', 'Aeronautical', 'Engineering', ',', 'Aeronautics', ',', 'Aerospace', 'Engineering', ',', 'Architecture', ',', 'Astronautical', 'Engineering', ',', 'Astronautics', ',', 'Astronomy', ',', 'Astrophysics', ',', 'Biomedical', 'Engineering', ',', 'Ceramic', 'Engineering', ',', 'Ceramics', ',', 'Chemical', 'Engineering', ',', 'Chemistry', ',', 'Civil', 'Engineering', ',', 'Computer', 'Engineering', ',', 'Computer', 'Science*', ',', 'Life', 'Science', ',', 'Earth', 'and', 'Planetary', 'Science', ',', 'Electrical', 'Engineering', ',', 'Electronics', 'Engineering', ',', 'Geology', ',', 'Geophysics', ',', 'Industrial', 'Engineering', ',', 'Materials', 'Engineering', ',', 'Materials', 'Science', ',', 'Mathematics', '(', 'Pure', 'or', 'Applied', ')', ',', 'Applied', 'Mechanics', ',', 'Engineering', 'Mechanics', ',', 'Mechanical', 'Engineering', ',', 'Metallurgical', 'Engineering', ',', 'Metallurgy', ',', 'Meteorology', ',', 'Nuclear', 'Engineering', ',', 'Nuclear', 'Engineering', 'Physics', ',', 'Oceanography', ',', 'Optical', 'Engineering', ',', 'Physics', ',', 'Applied', 'Physics', ',', 'Engineering', 'Physics', ',', 'Space', 'Science', ',', 'Structural', 'Engineering', ',', 'Welding', 'Engineering', 'or', 'other', 'appropriate', 'physical', 'science', 'or', 'engineering', 'field.Degrees', 'in', 'engineering', 'technology', 'are', 'not', 'considered', 'to', 'be', 'qualifying', 'for', 'this', 'position', '.', '*Note', ':', 'Curriculum', 'must', 'include', '30', 'semester', 'hours', 'of', 'course', 'work', 'in', 'a', 'combination', 'of', 'mathematics', ',', 'statistics', 'and', 'computer', 'science', 'that', 'provided', 'in-depth', 'knowledge', 'of', 'the', 'following', ':', '(', '1', ')', 'theoretical', 'foundations', 'and', 'practical', 'applications', 'of', 'computer', 'science', ',', 'including', 'digital', 'computer', 'system', 'architecture', 'and', 'system', 'software', 'organization', ',', 'the', 'representation', 'and', 'transformation', 'of', 'information', 'structures', 'and', 'the', 'theoretical', 'models', 'for', 'such', 'representations', 'and', 'transformations', ';', 'and', '(', '2', ')', 'essential', 'mathematical', 'and', 'statistical', 'techniques', '.', 'Of', 'the', '30', 'semester', 'hours', ',', '15', 'must', 'be', 'in', 'any', 'combination', 'of', 'statistics', 'and', 'mathematics', 'which', 'includes', 'differential', 'and', 'integral', 'calculus.U.S', '.', 'Engineering', 'degrees', 'must', 'have', 'been', 'awarded', 'from', 'a', 'college', 'or', 'university', 'school', 'of', 'engineering', 'with', 'at', 'least', 'one', 'curriculum', 'accredited', 'by', 'the', 'Engineering', 'Accreditation', 'Commission', '(', 'EAC', ')', 'of', 'the', 'Accreditation', 'Board', 'for', 'Engineering', 'and', 'Technology', '(', 'ABET', ')', '.', 'To', 'find', 'out', 'if', 'a', 'degree', 'meets', 'this', 'requirement', ',', 'go', 'to', 'http', ':', '//www.abet.org', '.', 'Foreign', 'Engineering', 'degrees', 'must', 'be', 'recognized', 'by', 'a', 'Mutual', 'Recognition', 'Agreement', '(', 'MRA', ')', ',', 'often', 'known', 'as', 'accords', 'These', 'are', 'non-governmental', 'agreements', 'among', 'organizations', 'that', 'accredit', 'academic', 'degree', 'programs', '.', 'MRAs', 'recognize', 'the', 'substantial', 'equivalence', 'of', 'mature', 'accreditation', 'systems', 'and', 'programs', 'accredited', 'by', 'signatory', 'organizations', 'within', 'their', 'jurisdictions', '.', 'For', 'a', 'listing', 'of', 'Signatories', ',', 'please', 'visit', ',', 'https', ':', '//www.abet.org/global-presence/mutual-recognition-agreements/is-your-program-recognized/', '.', 'Science', 'and', 'other', 'related', 'degrees', 'must', 'have', 'been', 'awarded', 'from', 'colleges', 'or', 'universities', 'that', 'are', 'accredited', 'by', 'recognized', 'accrediting', 'organizations', '.', 'For', 'a', 'list', 'of', 'schools', 'that', 'meet', 'this', 'criteria', ',', 'go', 'to', 'http', ':', '//ope.ed.gov/accreditation/', '.', 'If', 'you', 'are', 'using', 'education', 'completed', 'in', 'foreign', 'colleges', 'or', 'universities', 'to', 'meet', 'the', 'qualification', 'requirements', ',', 'you', 'must', 'show', 'that', 'the', 'education', 'credentials', 'have', 'been', 'evaluated', 'by', 'a', 'private', 'organization', 'that', 'specializes', 'in', 'interpretation', 'of', 'foreign', 'education', 'programs', '.', 'These', 'education', 'credentials', 'must', 'be', 'deemed', 'equivalent', 'to', 'that', 'gained', 'in', 'an', 'accredited', 'U.S.', 'education', 'program', ';', 'or', 'full', 'credit', 'has', 'been', 'given', 'for', 'the', 'courses', 'at', 'a', 'U.S.', 'accredited', 'college', 'or', 'university', '.', 'For', 'further', 'information', ',', 'visit', ':', 'https', ':', '//www2.ed.gov/about/offices/list/ous/international/usnei/us/edlite-visitus-forrecog.html', '.', 'All', 'degrees', 'must', 'have', 'been', 'received', 'in', 'the', 'year', 'of', ',', 'or', 'any', 'year', 'subsequent', 'to', 'the', 'original', 'date', 'of', 'accreditation.Official', 'transcripts', 'will', 'be', 'required', 'at', 'the', 'time', 'of', 'selection', 'to', 'verify', 'that', 'you', 'meet', 'the', 'educational', 'requirement', 'or', 'substitution', '.']\n"
     ]
    }
   ],
   "source": [
    "# Seperates string into words\n",
    "print(word_tokenize(data))"
   ]
  },
  {
   "cell_type": "code",
   "execution_count": 48,
   "metadata": {},
   "outputs": [
    {
     "output_type": "stream",
     "name": "stdout",
     "text": [
      "['Computer', 'Scientist', 'AST', 'Computer', 'Research', 'Development', 'National', 'Aeronautics', 'Space', 'Administration', 'Ames', 'Research', 'Center', 'SummaryThe', 'Intelligent', 'Systems', 'Division', 'NASA', 'Ames', 'Research', 'Center', 'seeking', 'applicants', 'position', 'Computer', 'Scientist', 'support', 'Center', 'Intelligent', 'Adaptive', 'Systems', 'IAS', 'core', 'competency', 'This', 'position', 'serves', 'lead', 'innovator', 'guide', 'create', 'software', 'tools', 'applicable', 'IAS', 'core', 'competency', 'covering', 'spectrum', 'research', 'design', 'development', 'phases', 'well', 'project', 'implementation', 'operation', 'phases', 'flight', 'team', 'lead', 'senior', 'software', 'development', 'lead', 'project', 'manager', 'principal', 'investigator', 'deployment', 'lead', 'laboratory', 'manager', 'providing', 'technical', 'range', 'aviation', 'airborne', 'science', 'small', 'spacecraft', 'robotics', 'quantum', 'computing', 'biomedical', 'applications', 'human', 'exploration', 'advanced', 'exploration', 'systems', 'software', 'tools', 'applicable', 'Intelligent', 'Adaptive', 'Systems', 'IAS', 'covering', 'spectrum', 'research', 'design', 'development', 'phases', 'well', 'project', 'implementation', 'operation', 'phases', 'flight', 'models', 'algorithms', 'hardware', 'software', 'technologies', 'function', 'advisors', 'advanced', 'automation', 'autonomous', 'technologies', 'tools', 'techniques', 'address', 'information', 'management', 'methods', 'detect', 'classify', 'predict', 'events', 'interest', 'engineered', 'systems', 'technologies', 'automated', 'software', 'engineering', 'increase', 'reliability', 'reduce', 'cost', 'software', 'NASA', 'basic', 'applied', 'research', 'development', 'wide', 'variety', 'areas', 'intelligent', 'robotic', 'systems', 'control', 'software', 'data', 'systems', 'machine', 'learning', 'assured', 'documentation', 'project', 'requirements', 'design', 'development', 'testing', 'use', 'deliverables', 'software', 'tools', 'data', 'Integrates', 'results', 'comprehensive', 'technical', 'briefings', 'reports', 'development', 'proposal', 'submissions', 'serves', 'Agency', 'government', 'committees', 'working', 'groups', 'supports', 'policy', 'development', 'participates', 'roadmap', 'planning', 'described', 'level', 'Duties', 'assigned', 'lower', 'grade', 'level', 'limited', 'scope', 'performed', 'less', 'independence', 'limited', 'complexity', 'duties', 'commensurate', 'grade', 'selected', 'employee', 'Qualifications', 'In', 'addition', 'basic', 'education', 'requirement', 'must', 'one', 'year', 'specialized', 'experience', 'equivalent', 'next', 'lower', 'grade', 'level', 'equipped', 'particular', 'competencies', 'needed', 'successfully', 'perform', 'duties', 'position', 'described', 'qualify', 'Specialized', 'experience', 'equivalent', 'next', 'lower', 'grade', 'level', 'includes', 'duties', 'conducting', 'research', 'development', 'intelligent', 'adaptive', 'systems', 'support', 'either', 'autonomy', 'autonomous', 'support', 'operations', 'experience', 'model', 'algorithm', 'hardware', 'software', 'development', 'engineered', 'information', 'qualify', 'Specialized', 'experience', 'equivalent', 'next', 'lower', 'grade', 'level', 'includes', 'duties', 'leading', 'providing', 'technical', 'guidance', 'technical', 'oversight', 'researching', 'designing', 'analyzing', 'developing', 'deploying', 'operating', 'intelligent', 'adaptive', 'systems', 'support', 'either', 'autonomy', 'autonomous', 'support', 'operations', 'AND', 'experience', 'model', 'algorithm', 'hardware', 'software', 'development', 'engineered', 'information', 'resume', 'must', 'include', 'clear', 'detailed', 'narrative', 'description', 'words', 'meet', 'required', 'specialized', 'experience', 'Experience', 'statements', 'copied', 'position', 'description', 'vacancy', 'announcement', 'reference', 'material', 'constitutes', 'plagiarism', 'may', 'result', 'disqualification', 'losing', 'consideration', 'spell', 'Basic', 'Education', 'Requirement', 'A', 'bachelor', 'degree', 'accredited', 'college', 'university', 'major', 'study', 'Aeronautical', 'Engineering', 'Aeronautics', 'Aerospace', 'Engineering', 'Architecture', 'Astronautical', 'Engineering', 'Astronautics', 'Astronomy', 'Astrophysics', 'Biomedical', 'Engineering', 'Ceramic', 'Engineering', 'Ceramics', 'Chemical', 'Engineering', 'Chemistry', 'Civil', 'Engineering', 'Computer', 'Engineering', 'Computer', 'Life', 'Science', 'Earth', 'Planetary', 'Science', 'Electrical', 'Engineering', 'Electronics', 'Engineering', 'Geology', 'Geophysics', 'Industrial', 'Engineering', 'Materials', 'Engineering', 'Materials', 'Science', 'Mathematics', 'Pure', 'Applied', 'Applied', 'Mechanics', 'Engineering', 'Mechanics', 'Mechanical', 'Engineering', 'Metallurgical', 'Engineering', 'Metallurgy', 'Meteorology', 'Nuclear', 'Engineering', 'Nuclear', 'Engineering', 'Physics', 'Oceanography', 'Optical', 'Engineering', 'Physics', 'Applied', 'Physics', 'Engineering', 'Physics', 'Space', 'Science', 'Structural', 'Engineering', 'Welding', 'Engineering', 'appropriate', 'physical', 'science', 'engineering', 'engineering', 'technology', 'considered', 'qualifying', 'position', 'Curriculum', 'must', 'include', 'semester', 'hours', 'course', 'work', 'combination', 'mathematics', 'statistics', 'computer', 'science', 'provided', 'knowledge', 'following', 'theoretical', 'foundations', 'practical', 'applications', 'computer', 'science', 'including', 'digital', 'computer', 'system', 'architecture', 'system', 'software', 'organization', 'representation', 'transformation', 'information', 'structures', 'theoretical', 'models', 'representations', 'transformations', 'essential', 'mathematical', 'statistical', 'techniques', 'Of', 'semester', 'hours', 'must', 'combination', 'statistics', 'mathematics', 'includes', 'differential', 'integral', 'Engineering', 'degrees', 'must', 'awarded', 'college', 'university', 'school', 'engineering', 'least', 'one', 'curriculum', 'accredited', 'Engineering', 'Accreditation', 'Commission', 'EAC', 'Accreditation', 'Board', 'Engineering', 'Technology', 'ABET', 'To', 'find', 'degree', 'meets', 'requirement', 'go', 'http', 'Foreign', 'Engineering', 'degrees', 'must', 'recognized', 'Mutual', 'Recognition', 'Agreement', 'MRA', 'often', 'known', 'accords', 'These', 'agreements', 'among', 'organizations', 'accredit', 'academic', 'degree', 'programs', 'MRAs', 'recognize', 'substantial', 'equivalence', 'mature', 'accreditation', 'systems', 'programs', 'accredited', 'signatory', 'organizations', 'within', 'jurisdictions', 'For', 'listing', 'Signatories', 'please', 'visit', 'https', 'Science', 'related', 'degrees', 'must', 'awarded', 'colleges', 'universities', 'accredited', 'recognized', 'accrediting', 'organizations', 'For', 'list', 'schools', 'meet', 'criteria', 'go', 'http', 'If', 'using', 'education', 'completed', 'foreign', 'colleges', 'universities', 'meet', 'qualification', 'requirements', 'must', 'show', 'education', 'credentials', 'evaluated', 'private', 'organization', 'specializes', 'interpretation', 'foreign', 'education', 'programs', 'These', 'education', 'credentials', 'must', 'deemed', 'equivalent', 'gained', 'accredited', 'education', 'program', 'full', 'credit', 'given', 'courses', 'accredited', 'college', 'university', 'For', 'information', 'visit', 'https', 'All', 'degrees', 'must', 'received', 'year', 'year', 'subsequent', 'original', 'date', 'transcripts', 'required', 'time', 'selection', 'verify', 'meet', 'educational', 'requirement', 'substitution']\n"
     ]
    }
   ],
   "source": [
    "word_tokens = word_tokenize(data)\n",
    "\n",
    "# removes non alphabetic \n",
    "word_tokens = [word for word in word_tokens if word.isalpha()]\n",
    "\n",
    "# remove stop words\n",
    "stop_words = set(stopwords.words('english'))\n",
    "filtered_sentence = [w for w in word_tokens if not w in stop_words]\n",
    "\n",
    "\n",
    "filtered_sentence = []\n",
    "\n",
    "for w in word_tokens:\n",
    "    if w not in stop_words:\n",
    "        filtered_sentence.append(w)\n",
    "\n",
    "\n",
    "print(filtered_sentence)"
   ]
  },
  {
   "cell_type": "code",
   "execution_count": 49,
   "metadata": {},
   "outputs": [
    {
     "output_type": "stream",
     "name": "stdout",
     "text": [
      "[('Engineering', 25), ('software', 11), ('development', 10), ('must', 10), ('systems', 7), ('education', 6), ('experience', 6), ('accredited', 6), ('Computer', 5), ('position', 5), ('support', 5), ('information', 5), ('level', 5), ('grade', 5), ('Science', 5)]\n"
     ]
    }
   ],
   "source": [
    "# Most common words\n",
    "all_words = nltk.FreqDist(filtered_sentence)\n",
    "print(all_words.most_common(15))"
   ]
  },
  {
   "cell_type": "code",
   "execution_count": null,
   "metadata": {},
   "outputs": [],
   "source": []
  },
  {
   "cell_type": "code",
   "execution_count": null,
   "metadata": {},
   "outputs": [],
   "source": []
  },
  {
   "cell_type": "code",
   "execution_count": null,
   "metadata": {},
   "outputs": [],
   "source": []
  },
  {
   "cell_type": "code",
   "execution_count": null,
   "metadata": {},
   "outputs": [],
   "source": []
  }
 ]
}